{
 "cells": [
  {
   "cell_type": "markdown",
   "metadata": {},
   "source": [
    "# Welcome, this is a self-directed learning repository for all people who are interested in knowing my portfolio."
   ]
  },
  {
   "cell_type": "markdown",
   "metadata": {},
   "source": [
    "#Hola! Python es un lenguaje fácil de programación. De acuerdo con sus 19 principios escritos por Tim Piters (vea import this,en la línea de comandos), refleja la importancia de usar un código limpio, fácil de leer y mantener.\n"
   ]
  },
  {
   "cell_type": "code",
   "execution_count": null,
   "metadata": {
    "vscode": {
     "languageId": "plaintext"
    }
   },
   "outputs": [],
   "source": []
  }
 ],
 "metadata": {
  "language_info": {
   "name": "python"
  }
 },
 "nbformat": 4,
 "nbformat_minor": 2
}
